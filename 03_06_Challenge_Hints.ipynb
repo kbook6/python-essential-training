{
 "cells": [
  {
   "cell_type": "markdown",
   "id": "5cd90a72",
   "metadata": {},
   "source": [
    "## Converting Hexadecimal to Decimal\n"
   ]
  },
  {
   "cell_type": "markdown",
   "id": "68e8d622-f011-4cd6-92eb-c93686a24b7c",
   "metadata": {},
   "source": [
    "### Convert hexadecimal to decimal\n",
    "\n",
    "Example:\n",
    "2A represents the number 42.\n",
    "-contains a 2 in the 16's place, plus an A in the 1's place\n",
    "-42 has a 4 in the 10's place and a 2 in the 1's place\n",
    "-hexadecimal has a corresponding \"16's\" place\n",
    "(2*16) + (A*1) = (2*16) + (10+1) = 42"
   ]
  },
  {
   "cell_type": "markdown",
   "id": "3332e0e4-f550-4fd6-ac69-1b82d52dd9de",
   "metadata": {
    "jp-MarkdownHeadingCollapsed": true
   },
   "source": [
    "## Your Task\n",
    "Write a function to convert a hexadecimal string (up to three characters long) into a decimal integer. Do not use the Python function int(hexNum, 16) to do this. Write your own function!\n",
    "## Parameters\n",
    "hexNum: some value that needs to be converted into a decimal number, if possible. Up to three characters long. \n",
    "## Result\n",
    "int: the decimal value of the hexadecimal input, or None if it is not a valid hexadecimal input\n",
    "\n",
    "### Example 1\n",
    "Input: ABC  \n",
    "Result: 2748\n",
    "### Example 2:\n",
    "Input: 'Not a number'  \n",
    "Result: None\n"
   ]
  },
  {
   "cell_type": "markdown",
   "id": "b204bc4e",
   "metadata": {
    "jp-MarkdownHeadingCollapsed": true
   },
   "source": [
    "## Challenge Hints!"
   ]
  },
  {
   "cell_type": "markdown",
   "id": "41ca3358",
   "metadata": {},
   "source": [
    "**Hint 1:** The following will convert 'ABC' into a decimal:\n"
   ]
  },
  {
   "cell_type": "code",
   "execution_count": 2,
   "id": "31190f4a",
   "metadata": {},
   "outputs": [
    {
     "data": {
      "text/plain": [
       "2748"
      ]
     },
     "execution_count": 2,
     "metadata": {},
     "output_type": "execute_result"
    }
   ],
   "source": [
    "hexNumbers = {\n",
    "    '0': 0, '1': 1, '2': 2, '3': 3, '4': 4, '5': 5, '6': 6, '7': 7, '8': 8, '9': 9,\n",
    "    'A': 10, 'B': 11, 'C': 12, 'D': 13, 'E': 14, 'F': 15\n",
    "}\n",
    "\n",
    "hexNumbers['A'] * 256 + hexNumbers['B'] * 16 + hexNumbers['C'] "
   ]
  },
  {
   "cell_type": "markdown",
   "id": "61a884ee",
   "metadata": {},
   "source": [
    "**Hint 2:** You can check to see how long the hex string is with:"
   ]
  },
  {
   "cell_type": "code",
   "execution_count": 4,
   "id": "7f4a3877",
   "metadata": {},
   "outputs": [
    {
     "data": {
      "text/plain": [
       "2"
      ]
     },
     "execution_count": 4,
     "metadata": {},
     "output_type": "execute_result"
    }
   ],
   "source": [
    "hexNum = '1B'\n",
    "len(hexNum)"
   ]
  },
  {
   "cell_type": "markdown",
   "id": "2893d9ef",
   "metadata": {},
   "source": [
    "**Hint 3:** You can get the character at each position of a string like this:"
   ]
  },
  {
   "cell_type": "code",
   "execution_count": 5,
   "id": "a9cb3333",
   "metadata": {},
   "outputs": [
    {
     "name": "stdout",
     "output_type": "stream",
     "text": [
      "A\n",
      "B\n",
      "C\n"
     ]
    }
   ],
   "source": [
    "hexNum = 'ABC'\n",
    "print(hexNum[0])\n",
    "print(hexNum[1])\n",
    "print(hexNum[2])\n"
   ]
  },
  {
   "cell_type": "code",
   "execution_count": 2,
   "id": "cfc54187",
   "metadata": {},
   "outputs": [],
   "source": [
    "hexNumbers = {\n",
    "    '0': 0, '1': 1, '2': 2, '3': 3, '4': 4, '5': 5, '6': 6, '7': 7, '8': 8, '9': 9,\n",
    "    'A': 10, 'B': 11, 'C': 12, 'D': 13, 'E': 14, 'F': 15\n",
    "}\n",
    "\n",
    "# Converts a string hexadecimal number into an integer decimal\n",
    "# If hexNum is not a valid hexadecimal number, returns None\n",
    "def hexToDec(hexNum):\n",
    "    pass"
   ]
  },
  {
   "cell_type": "markdown",
   "id": "db14e41c-81f1-4897-8bde-cd4855060fba",
   "metadata": {},
   "source": [
    "**Hint 4**: You can tell if every character in a string is a hex character like this:\n",
    "\n"
   ]
  },
  {
   "cell_type": "code",
   "execution_count": 3,
   "id": "6d4c987e-3b52-4679-9ae6-ce3115fd5fa9",
   "metadata": {},
   "outputs": [
    {
     "name": "stdout",
     "output_type": "stream",
     "text": [
      "Z is not a hex character!\n"
     ]
    }
   ],
   "source": [
    "myString = 'ABCZ'\n",
    "for char in myString:\n",
    "    if char not in hexNumbers:\n",
    "        print(f'{char} is not a hex character!')"
   ]
  },
  {
   "cell_type": "code",
   "execution_count": null,
   "id": "3ae60510-e28e-48cb-a4a7-de383931faa6",
   "metadata": {},
   "outputs": [],
   "source": []
  },
  {
   "cell_type": "markdown",
   "id": "120a3281-8f7d-45e7-b99e-41e6e090527a",
   "metadata": {},
   "source": [
    "# Code"
   ]
  },
  {
   "cell_type": "code",
   "execution_count": 33,
   "id": "4466a03b-5a4d-47a1-bbd9-cba68924914e",
   "metadata": {},
   "outputs": [],
   "source": [
    "# Python code​​​​​​‌‌​​‌‌​‌​​​​‌‌​‌​‌​​‌​​​‌ below\n",
    "hexNumbers = {\n",
    "    '0': 0, '1': 1, '2': 2, '3': 3, '4': 4, '5': 5, '6': 6, '7': 7, '8': 8, '9': 9,\n",
    "    'A': 10, 'B': 11, 'C': 12, 'D': 13, 'E': 14, 'F': 15\n",
    "}\n",
    "\n",
    "# Converts a string hexadecimal number into an integer decimal\n",
    "# If hexNum is not a valid hexadecimal number, returns None\n",
    "def hexToDec(hexNum):\n",
    "    if len(hexNum) > 3 or len(hexNum) == 0:\n",
    "        return None\n",
    "    for char in hexNum:\n",
    "        if char  not in hexNumbers:\n",
    "            return None\n",
    "            \n",
    "    ans = 0\n",
    "    length = len(hexNum)\n",
    "\n",
    "    if length == 1:\n",
    "        x = hexNumbers[hexNum[0]]\n",
    "        return x\n",
    "    if length == 2:\n",
    "        y = (hexNumbers[hexNum[0]] * 16) + hexNumbers[hexNum[1]]\n",
    "        return y\n",
    "    if length == 3:\n",
    "        z = (hexNumbers[hexNum[0]] * 256) + (hexNumbers[hexNum[1]] * 16) + hexNumbers[hexNum[2]]\n",
    "        return z\n",
    "    pass"
   ]
  },
  {
   "cell_type": "code",
   "execution_count": 30,
   "id": "c99470e2-b7e7-4502-ab46-eb72e9e8d320",
   "metadata": {
    "scrolled": true
   },
   "outputs": [],
   "source": [
    "hexToDec('Z')"
   ]
  },
  {
   "cell_type": "code",
   "execution_count": 32,
   "id": "40e3ec3d-8c0f-411a-b973-96ece4604782",
   "metadata": {},
   "outputs": [
    {
     "data": {
      "text/plain": [
       "10"
      ]
     },
     "execution_count": 32,
     "metadata": {},
     "output_type": "execute_result"
    }
   ],
   "source": [
    "hexToDec('A')"
   ]
  },
  {
   "cell_type": "code",
   "execution_count": 34,
   "id": "fd8025f6-9508-461a-bf15-84a602d87a61",
   "metadata": {},
   "outputs": [
    {
     "data": {
      "text/plain": [
       "2748"
      ]
     },
     "execution_count": 34,
     "metadata": {},
     "output_type": "execute_result"
    }
   ],
   "source": [
    "hexToDec('ABC')"
   ]
  },
  {
   "cell_type": "code",
   "execution_count": 24,
   "id": "ec9f1124-3e1d-4529-974d-d8ace1b1e6f7",
   "metadata": {},
   "outputs": [],
   "source": [
    "hexToDec('Not a number')"
   ]
  }
 ],
 "metadata": {
  "kernelspec": {
   "display_name": "Python 3 (ipykernel)",
   "language": "python",
   "name": "python3"
  },
  "language_info": {
   "codemirror_mode": {
    "name": "ipython",
    "version": 3
   },
   "file_extension": ".py",
   "mimetype": "text/x-python",
   "name": "python",
   "nbconvert_exporter": "python",
   "pygments_lexer": "ipython3",
   "version": "3.13.2"
  },
  "vscode": {
   "interpreter": {
    "hash": "949777d72b0d2535278d3dc13498b2535136f6dfe0678499012e853ee9abcab1"
   }
  }
 },
 "nbformat": 4,
 "nbformat_minor": 5
}
